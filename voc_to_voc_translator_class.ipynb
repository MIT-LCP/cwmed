{
 "cells": [
  {
   "cell_type": "code",
   "execution_count": 1,
   "metadata": {},
   "outputs": [],
   "source": [
    "import pandas as pd"
   ]
  },
  {
   "cell_type": "code",
   "execution_count": 60,
   "metadata": {},
   "outputs": [],
   "source": [
    "\n",
    "\n",
    "class Standard_vocab_translator(object):\n",
    "    def __init__(self, source_vocabulary:str, target_vocabulary:str, source_file:str, source_file_code_column:str):\n",
    "        # Vocabulary Variables\n",
    "        self.source_vocabulary = source_vocabulary\n",
    "        self.target_vocabulary = target_vocabulary\n",
    "        \n",
    "        # Concept dictionary load.\n",
    "        concept=pd.read_csv(\"CONCEPT.csv\",sep=\"\\\\t\",error_bad_lines=False, \n",
    "                            converters={\"concept_id\":str,\"concept_code\":str}, engine='python')\n",
    "        #List of all vocabularies in the diccionary\n",
    "        self.vocab_list=concept[\"vocabulary_id\"].unique()\n",
    "        \n",
    "        # Concept relationship dictionary load.\n",
    "        concept_rel=pd.read_csv(\"CONCEPT_RELATIONSHIP.csv\",sep=\"\\\\t\",error_bad_lines=False, \n",
    "                        converters={\"concept_id_1\":str,\"concept_id_2\":str}, engine='python')\n",
    "        \n",
    "        \n",
    "        # Select only the needed vocabularies. \n",
    "        \n",
    "        # Example with 'NDC' and 'RxNorm'\n",
    "        concept=concept[(concept[\"vocabulary_id\"]==source_vocabulary)|(concept[\"vocabulary_id\"]==target_vocabulary)]\n",
    "        # Select only the relationships on \"mapping to\". \n",
    "        concept_rel=concept_rel[concept_rel['relationship_id']==\"Maps to\"]\n",
    "        \n",
    "        \n",
    "        # Load your source file.\n",
    "        source_voc=pd.read_csv(source_file,converters={source_file_code_column:str})\n",
    "        \n",
    "        #1 Translate your source vocabulary code(concept_name) TO concept_id(NDC).\n",
    "        #replace left_on value for the source code columns name.\n",
    "        concept_id_source=source_voc.merge(concept, how='left',left_on=source_file_code_column, right_on=\"concept_code\")\n",
    "        \n",
    "        # 2 step. Merge tables joining on concept_id(from source voc) to concept_id()\n",
    "        source_rel_merge=concept_id_source.merge(concept_rel, how='left',left_on=\"concept_id\",right_on=\"concept_id_1\")\n",
    "        \n",
    "        # Cleaning undesired columns \n",
    "        source_rel_merge=source_rel_merge[[source_file_code_column,'concept_id','concept_id_1','concept_id_2']]\n",
    "        \n",
    "        \n",
    "        # step 3. Merge tables joining the concept_id_2(concept_id from target voc) with concept dictionary to \n",
    "        # obabstain the concept_code of the target voc.\n",
    "\n",
    "        rel_target_merge = source_rel_merge.merge(concept, how='left',left_on=\"concept_id_2\",right_on=\"concept_id\")\n",
    "        \n",
    "        rel_target_merge=rel_target_merge[[source_file_code_column,'concept_id_x','concept_id_1','concept_id_2','concept_code']]\n",
    "        # Renaming columns for clarity\n",
    "        \n",
    "        rel_target_merge.columns=[source_file_code_column,'concept_id_x','concept_id_{}'.format(source_vocabulary),\n",
    "                                  'concept_id_{}'.format(target_vocabulary),target_vocabulary]\n",
    "        \n",
    "        self.rel_target_merge = rel_target_merge\n",
    "        \n",
    "    def print_dic(self):\n",
    "        print(self.rel_target_merge)\n",
    "    \n",
    "    def save_dic(self,target_file):\n",
    "        self.rel_target_merge.to_csv(target_file)\n",
    "    \n",
    "    def failed_mappings(self):\n",
    "        failed_mappings = self.rel_target_merge[self.rel_target_merge['concept_id_{}'.format(self.source_vocabulary)].isnull()]\n",
    "        failed_mappings.to_csv(\"failed_mappings.csv\")\n",
    "        \n",
    "  \n"
   ]
  },
  {
   "cell_type": "code",
   "execution_count": 61,
   "metadata": {},
   "outputs": [],
   "source": [
    "# instantiating the class Standard_vocab_translator\n",
    "# parameters (source_vocabulary, target_vocabulary, source_file, source_file_code_column)\n",
    "\n",
    "test = Standard_vocab_translator('NDC','RxNorm','source_2.csv','ndc')"
   ]
  },
  {
   "cell_type": "code",
   "execution_count": 58,
   "metadata": {},
   "outputs": [
    {
     "name": "stdout",
     "output_type": "stream",
     "text": [
      "              ndc concept_id_x concept_id_NDC concept_id_RxNorm       RxNorm\n",
      "0     64054090302     44989417       44989417          42902754      1359867\n",
      "1     00074798427     45247787       45247787          19079524       313002\n",
      "2       002641101     45010115       45010115          19076324       309778\n",
      "3     00074798427     45247787       45247787          19079524       313002\n",
      "4       002641101     45010115       45010115          19076324       309778\n",
      "...           ...          ...            ...               ...          ...\n",
      "3176  80681001900     37619428       37619428          19019302       198025\n",
      "3177  80777027310     42796198       42796198          37003518      2470234\n",
      "3178  89141012301     42833573       42833573          19124445       644304\n",
      "3179  89141045602     45144290       45144290          45144290  89141045602\n",
      "3180  92771060002          NaN            NaN               NaN          NaN\n",
      "\n",
      "[3181 rows x 5 columns]\n"
     ]
    }
   ],
   "source": [
    "# print the dictionary\n",
    "test.print_dic()"
   ]
  },
  {
   "cell_type": "code",
   "execution_count": 52,
   "metadata": {},
   "outputs": [
    {
     "data": {
      "text/plain": [
       "'NDC'"
      ]
     },
     "execution_count": 52,
     "metadata": {},
     "output_type": "execute_result"
    }
   ],
   "source": [
    "test.source_vocabulary"
   ]
  },
  {
   "cell_type": "code",
   "execution_count": 53,
   "metadata": {},
   "outputs": [],
   "source": [
    "# method save_dic\n",
    "test.save_dic('holi.csv')\n"
   ]
  },
  {
   "cell_type": "code",
   "execution_count": 64,
   "metadata": {},
   "outputs": [],
   "source": [
    "# Failed mappings\n",
    "\n",
    "test.failed_mappings()"
   ]
  },
  {
   "cell_type": "code",
   "execution_count": 63,
   "metadata": {},
   "outputs": [
    {
     "name": "stdout",
     "output_type": "stream",
     "text": [
      "              ndc concept_id_x concept_id_NDC concept_id_RxNorm       RxNorm\n",
      "0     64054090302     44989417       44989417          42902754      1359867\n",
      "1     00074798427     45247787       45247787          19079524       313002\n",
      "2       002641101     45010115       45010115          19076324       309778\n",
      "3     00074798427     45247787       45247787          19079524       313002\n",
      "4       002641101     45010115       45010115          19076324       309778\n",
      "...           ...          ...            ...               ...          ...\n",
      "3176  80681001900     37619428       37619428          19019302       198025\n",
      "3177  80777027310     42796198       42796198          37003518      2470234\n",
      "3178  89141012301     42833573       42833573          19124445       644304\n",
      "3179  89141045602     45144290       45144290          45144290  89141045602\n",
      "3180  92771060002          NaN            NaN               NaN          NaN\n",
      "\n",
      "[3181 rows x 5 columns]\n"
     ]
    }
   ],
   "source": [
    "# method print_dic\n",
    "test.print_dic()"
   ]
  }
 ],
 "metadata": {
  "kernelspec": {
   "display_name": "Python 3",
   "language": "python",
   "name": "python3"
  },
  "language_info": {
   "codemirror_mode": {
    "name": "ipython",
    "version": 3
   },
   "file_extension": ".py",
   "mimetype": "text/x-python",
   "name": "python",
   "nbconvert_exporter": "python",
   "pygments_lexer": "ipython3",
   "version": "3.7.6"
  }
 },
 "nbformat": 4,
 "nbformat_minor": 4
}
