{
 "cells": [
  {
   "cell_type": "code",
   "execution_count": 1,
   "metadata": {},
   "outputs": [],
   "source": [
    "import pandas as pd\n",
    "import crosswalk as cw"
   ]
  },
  {
   "cell_type": "code",
   "execution_count": 2,
   "metadata": {},
   "outputs": [
    {
     "name": "stderr",
     "output_type": "stream",
     "text": [
      "/Users/dana/projects/medical-standard-voc-translator/crosswalk.py:68: FutureWarning: The error_bad_lines argument has been deprecated and will be removed in a future version. Use on_bad_lines in the future.\n",
      "\n",
      "\n",
      "  concept = pd.read_csv(self.concept_filepath, sep=\"\\\\t\", error_bad_lines=False,\n",
      "/Users/dana/projects/medical-standard-voc-translator/crosswalk.py:76: FutureWarning: The error_bad_lines argument has been deprecated and will be removed in a future version. Use on_bad_lines in the future.\n",
      "\n",
      "\n",
      "  concept_rel = pd.read_csv(\n"
     ]
    }
   ],
   "source": [
    "# instantiate the VocabTranslator class with keyword arguments.\n",
    "vocab = cw.VocabTranslator(source_filepath = 'data/medications_mimiciv.csv',\n",
    "                           source_code_col = 'ndc',\n",
    "                           concept_filepath = 'data/CONCEPT.csv',\n",
    "                           source_vocab_value = 'NDC',\n",
    "                           target_vocab_value = 'RxNorm',\n",
    "                           concept_relationship_filepath = 'data/CONCEPT_RELATIONSHIP.csv')"
   ]
  },
  {
   "cell_type": "code",
   "execution_count": 3,
   "metadata": {},
   "outputs": [
    {
     "name": "stdout",
     "output_type": "stream",
     "text": [
      "              ndc concept_id_x concept_id_NDC concept_id_RxNorm   RxNorm\n",
      "0     00338004904     45317536       45317536          40220357  1807639\n",
      "1     63323026201     44955074       44955074          43011850  1361615\n",
      "2     00409672924     45249610       45249610          46275280  1658259\n",
      "3     00904224461     45165569       45165569          44784779  1483571\n",
      "4     00338011704     45197763       45197763          19135374   847630\n",
      "...           ...          ...            ...               ...      ...\n",
      "5751  61958170101     45869430       45869430          45774382  1544471\n",
      "5752  68115071000     45058956       45058956          42801031  1298906\n",
      "5753  59366274201     45090236       45090236          19074132   308689\n",
      "5754      2148501          NaN            NaN               NaN      NaN\n",
      "5755     74332901          NaN            NaN               NaN      NaN\n",
      "\n",
      "[5756 rows x 5 columns]\n"
     ]
    }
   ],
   "source": [
    "# print the dictionary\n",
    "vocab.print_dic()"
   ]
  },
  {
   "cell_type": "code",
   "execution_count": 4,
   "metadata": {},
   "outputs": [
    {
     "data": {
      "text/plain": [
       "'NDC'"
      ]
     },
     "execution_count": 4,
     "metadata": {},
     "output_type": "execute_result"
    }
   ],
   "source": [
    "vocab.source_vocab_value"
   ]
  },
  {
   "cell_type": "code",
   "execution_count": 5,
   "metadata": {},
   "outputs": [],
   "source": [
    "# method save_dic\n",
    "vocab.save_dic('ndc_to_rxnorm.csv')"
   ]
  },
  {
   "cell_type": "code",
   "execution_count": 6,
   "metadata": {},
   "outputs": [
    {
     "name": "stdout",
     "output_type": "stream",
     "text": [
      "              ndc concept_id_x concept_id_NDC concept_id_RxNorm   RxNorm\n",
      "0     00338004904     45317536       45317536          40220357  1807639\n",
      "1     63323026201     44955074       44955074          43011850  1361615\n",
      "2     00409672924     45249610       45249610          46275280  1658259\n",
      "3     00904224461     45165569       45165569          44784779  1483571\n",
      "4     00338011704     45197763       45197763          19135374   847630\n",
      "...           ...          ...            ...               ...      ...\n",
      "5751  61958170101     45869430       45869430          45774382  1544471\n",
      "5752  68115071000     45058956       45058956          42801031  1298906\n",
      "5753  59366274201     45090236       45090236          19074132   308689\n",
      "5754      2148501          NaN            NaN               NaN      NaN\n",
      "5755     74332901          NaN            NaN               NaN      NaN\n",
      "\n",
      "[5756 rows x 5 columns]\n"
     ]
    }
   ],
   "source": [
    "# method print_dic\n",
    "vocab.print_dic()"
   ]
  },
  {
   "cell_type": "code",
   "execution_count": 7,
   "metadata": {},
   "outputs": [],
   "source": [
    "# failed mappings\n",
    "vocab.failed_mappings()"
   ]
  }
 ],
 "metadata": {
  "kernelspec": {
   "display_name": "Python 3.9.6 ('env': venv)",
   "language": "python",
   "name": "python3"
  },
  "language_info": {
   "codemirror_mode": {
    "name": "ipython",
    "version": 3
   },
   "file_extension": ".py",
   "mimetype": "text/x-python",
   "name": "python",
   "nbconvert_exporter": "python",
   "pygments_lexer": "ipython3",
   "version": "3.9.6"
  },
  "vscode": {
   "interpreter": {
    "hash": "e372a2dd97ce19e4aba6b7ce1cf562a905ea4c8a82fe6108946fbfb7fabedc11"
   }
  }
 },
 "nbformat": 4,
 "nbformat_minor": 4
}
