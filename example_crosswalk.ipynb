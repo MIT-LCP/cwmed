{
 "cells": [
  {
   "cell_type": "code",
   "execution_count": 1,
   "metadata": {},
   "outputs": [],
   "source": [
    "import pandas as pd\n",
    "import crosswalk as cw"
   ]
  },
  {
   "cell_type": "code",
   "execution_count": 2,
   "metadata": {},
   "outputs": [
    {
     "name": "stderr",
     "output_type": "stream",
     "text": [
      "/Users/dana/projects/medical-standard-voc-translator/crosswalk.py:68: FutureWarning: The error_bad_lines argument has been deprecated and will be removed in a future version. Use on_bad_lines in the future.\n",
      "\n",
      "\n",
      "  concept = pd.read_csv(self.concept_filepath, sep=\"\\\\t\", error_bad_lines=False,\n",
      "/Users/dana/projects/medical-standard-voc-translator/crosswalk.py:74: FutureWarning: The error_bad_lines argument has been deprecated and will be removed in a future version. Use on_bad_lines in the future.\n",
      "\n",
      "\n",
      "  concept_rel = pd.read_csv(\n"
     ]
    }
   ],
   "source": [
    "# instantiate the VocabTranslator class with keyword arguments.\n",
    "vocab_1 = cw.VocabTranslator(source_filepath = 'data/medications_mimiciv_sourcedata_ndc.csv',\n",
    "                           source_code_col = 'ndc',\n",
    "                           concept_filepath = 'data/CONCEPT.csv',\n",
    "                           source_vocab_value = 'NDC',\n",
    "                           target_vocab_value = 'RxNorm',\n",
    "                           concept_relationship_filepath = 'data/CONCEPT_RELATIONSHIP.csv')"
   ]
  },
  {
   "cell_type": "code",
   "execution_count": 3,
   "metadata": {},
   "outputs": [
    {
     "name": "stdout",
     "output_type": "stream",
     "text": [
      "              ndc concept_id_x concept_id_NDC concept_id_RxNorm   RxNorm  \\\n",
      "0     00338004904     45317536       45317536          40220357  1807639   \n",
      "1     63323026201     44955074       44955074          43011850  1361615   \n",
      "2     00409672924     45249610       45249610          46275280  1658259   \n",
      "3     00904224461     45165569       45165569          44784779  1483571   \n",
      "4     00338011704     45197763       45197763          19135374   847630   \n",
      "...           ...          ...            ...               ...      ...   \n",
      "5751  00009001612     45230311       45230311          35604740  1738596   \n",
      "5752  60267031110     45192579       45192579          19065540   253010   \n",
      "5753  31722093502     36001613       36001613           1753747   199672   \n",
      "5754  00085131801     45299279       45299279          19114474   544400   \n",
      "5755  00338085104     45266407       45266407          19131301   801584   \n",
      "\n",
      "                                    concept_name_RxNorm  \n",
      "0             1000 ML sodium chloride 9 MG/ML Injection  \n",
      "1     heparin sodium, porcine 5000 UNT/ML Injectable...  \n",
      "2            50 ML magnesium sulfate 40 MG/ML Injection  \n",
      "3             docusate sodium 100 MG Oral Capsule [DOK]  \n",
      "4     calcium chloride 0.0014 MEQ/ML / potassium chl...  \n",
      "...                                                 ...  \n",
      "5751      hydrocortisone 500 MG Injection [Solu-Cortef]  \n",
      "5752            10 ML sodium nitrite 30 MG/ML Injection  \n",
      "5753                     albendazole 200 MG Oral Tablet  \n",
      "5754         ribavirin 40 MG/ML Oral Solution [Rebetol]  \n",
      "5755  alanine 8.8 MG/ML / arginine 4.4 MG/ML / dibas...  \n",
      "\n",
      "[5756 rows x 6 columns]\n"
     ]
    }
   ],
   "source": [
    "# print the dictionary\n",
    "vocab_1.print_dic()"
   ]
  },
  {
   "cell_type": "code",
   "execution_count": 4,
   "metadata": {},
   "outputs": [
    {
     "data": {
      "text/plain": [
       "'NDC'"
      ]
     },
     "execution_count": 4,
     "metadata": {},
     "output_type": "execute_result"
    }
   ],
   "source": [
    "vocab_1.source_vocab_value"
   ]
  },
  {
   "cell_type": "code",
   "execution_count": 5,
   "metadata": {},
   "outputs": [],
   "source": [
    "# method save_dic\n",
    "vocab_1.save_dic('ndc_to_rxnorm_medications_mimiciv_source_data_ndc.csv')"
   ]
  },
  {
   "cell_type": "code",
   "execution_count": 6,
   "metadata": {},
   "outputs": [],
   "source": [
    "# failed mappings\n",
    "vocab_1.failed_mappings()"
   ]
  },
  {
   "cell_type": "code",
   "execution_count": 7,
   "metadata": {},
   "outputs": [
    {
     "name": "stderr",
     "output_type": "stream",
     "text": [
      "/Users/dana/projects/medical-standard-voc-translator/crosswalk.py:68: FutureWarning: The error_bad_lines argument has been deprecated and will be removed in a future version. Use on_bad_lines in the future.\n",
      "\n",
      "\n",
      "  concept = pd.read_csv(self.concept_filepath, sep=\"\\\\t\", error_bad_lines=False,\n",
      "/Users/dana/projects/medical-standard-voc-translator/crosswalk.py:76: FutureWarning: The error_bad_lines argument has been deprecated and will be removed in a future version. Use on_bad_lines in the future.\n",
      "\n",
      "\n",
      "  concept_rel = pd.read_csv(\n"
     ]
    }
   ],
   "source": [
    "# instantiate the VocabTranslator class with keyword arguments.\n",
    "vocab_2 = cw.VocabTranslator(source_filepath = 'data/source_2.csv',\n",
    "                           source_code_col = 'ndc',\n",
    "                           concept_filepath = 'data/CONCEPT.csv',\n",
    "                           source_vocab_value = 'NDC',\n",
    "                           target_vocab_value = 'RxNorm',\n",
    "                           concept_relationship_filepath = 'data/CONCEPT_RELATIONSHIP.csv')"
   ]
  },
  {
   "cell_type": "code",
   "execution_count": 8,
   "metadata": {},
   "outputs": [
    {
     "name": "stdout",
     "output_type": "stream",
     "text": [
      "              ndc concept_id_x concept_id_NDC concept_id_RxNorm       RxNorm\n",
      "0     64054090302     44989417       44989417          42902754      1359867\n",
      "1     00074798427     45247787       45247787          19079524       313002\n",
      "2       002641101     45010115       45010115          19076324       309778\n",
      "3     00074798427     45247787       45247787          19079524       313002\n",
      "4       002641101     45010115       45010115          19076324       309778\n",
      "...           ...          ...            ...               ...          ...\n",
      "3176  80681001900     37619428       37619428          19019302       198025\n",
      "3177  80777027310     42796198       42796198          37003518      2470234\n",
      "3178  89141012301     42833573       42833573          19124445       644304\n",
      "3179  89141045602     45144290       45144290          45144290  89141045602\n",
      "3180  92771060002          NaN            NaN               NaN          NaN\n",
      "\n",
      "[3181 rows x 5 columns]\n"
     ]
    }
   ],
   "source": [
    "# print the dictionary\n",
    "vocab_2.print_dic()"
   ]
  },
  {
   "cell_type": "code",
   "execution_count": 9,
   "metadata": {},
   "outputs": [
    {
     "data": {
      "text/plain": [
       "'NDC'"
      ]
     },
     "execution_count": 9,
     "metadata": {},
     "output_type": "execute_result"
    }
   ],
   "source": [
    "vocab_2.source_vocab_value"
   ]
  },
  {
   "cell_type": "code",
   "execution_count": 10,
   "metadata": {},
   "outputs": [],
   "source": [
    "# method save_dic\n",
    "vocab_2.save_dic('ndc_to_rxnorm_source_2.csv')"
   ]
  },
  {
   "cell_type": "code",
   "execution_count": 11,
   "metadata": {},
   "outputs": [],
   "source": [
    "# failed mappings\n",
    "vocab_2.failed_mappings()"
   ]
  }
 ],
 "metadata": {
  "kernelspec": {
   "display_name": "Python 3.9.6 ('env': venv)",
   "language": "python",
   "name": "python3"
  },
  "language_info": {
   "codemirror_mode": {
    "name": "ipython",
    "version": 3
   },
   "file_extension": ".py",
   "mimetype": "text/x-python",
   "name": "python",
   "nbconvert_exporter": "python",
   "pygments_lexer": "ipython3",
   "version": "3.9.6"
  },
  "vscode": {
   "interpreter": {
    "hash": "e372a2dd97ce19e4aba6b7ce1cf562a905ea4c8a82fe6108946fbfb7fabedc11"
   }
  }
 },
 "nbformat": 4,
 "nbformat_minor": 4
}
