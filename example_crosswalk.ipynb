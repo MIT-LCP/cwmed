{
 "cells": [
  {
   "cell_type": "code",
   "execution_count": 1,
   "metadata": {},
   "outputs": [],
   "source": [
    "import pandas as pd\n",
    "import crosswalk as cw"
   ]
  },
  {
   "cell_type": "code",
   "execution_count": 2,
   "metadata": {},
   "outputs": [],
   "source": [
    "# instantiating the class Standard_vocab_translator\n",
    "# parameters (source_vocabulary, target_vocabulary, source_file, source_file_code_column)\n",
    "\n",
    "test = cw.Standard_vocab_translator('NDC','RxNorm','source_2.csv','ndc')"
   ]
  },
  {
   "cell_type": "code",
   "execution_count": 3,
   "metadata": {},
   "outputs": [
    {
     "name": "stdout",
     "output_type": "stream",
     "text": [
      "              ndc concept_id_x concept_id_NDC concept_id_RxNorm       RxNorm\n",
      "0     64054090302     44989417       44989417          42902754      1359867\n",
      "1     00074798427     45247787       45247787          19079524       313002\n",
      "2       002641101     45010115       45010115          19076324       309778\n",
      "3     00074798427     45247787       45247787          19079524       313002\n",
      "4       002641101     45010115       45010115          19076324       309778\n",
      "...           ...          ...            ...               ...          ...\n",
      "3176  80681001900     37619428       37619428          19019302       198025\n",
      "3177  80777027310     42796198       42796198          37003518      2470234\n",
      "3178  89141012301     42833573       42833573          19124445       644304\n",
      "3179  89141045602     45144290       45144290          45144290  89141045602\n",
      "3180  92771060002          NaN            NaN               NaN          NaN\n",
      "\n",
      "[3181 rows x 5 columns]\n"
     ]
    }
   ],
   "source": [
    "# print the dictionary\n",
    "test.print_dic()"
   ]
  },
  {
   "cell_type": "code",
   "execution_count": 4,
   "metadata": {},
   "outputs": [
    {
     "data": {
      "text/plain": [
       "'NDC'"
      ]
     },
     "execution_count": 4,
     "metadata": {},
     "output_type": "execute_result"
    }
   ],
   "source": [
    "test.source_vocabulary"
   ]
  },
  {
   "cell_type": "code",
   "execution_count": 53,
   "metadata": {},
   "outputs": [],
   "source": [
    "# method save_dic\n",
    "test.save_dic('holi.csv')\n"
   ]
  },
  {
   "cell_type": "code",
   "execution_count": 64,
   "metadata": {},
   "outputs": [],
   "source": [
    "# Failed mappings\n",
    "\n",
    "test.failed_mappings()"
   ]
  },
  {
   "cell_type": "code",
   "execution_count": 5,
   "metadata": {},
   "outputs": [
    {
     "name": "stdout",
     "output_type": "stream",
     "text": [
      "              ndc concept_id_x concept_id_NDC concept_id_RxNorm       RxNorm\n",
      "0     64054090302     44989417       44989417          42902754      1359867\n",
      "1     00074798427     45247787       45247787          19079524       313002\n",
      "2       002641101     45010115       45010115          19076324       309778\n",
      "3     00074798427     45247787       45247787          19079524       313002\n",
      "4       002641101     45010115       45010115          19076324       309778\n",
      "...           ...          ...            ...               ...          ...\n",
      "3176  80681001900     37619428       37619428          19019302       198025\n",
      "3177  80777027310     42796198       42796198          37003518      2470234\n",
      "3178  89141012301     42833573       42833573          19124445       644304\n",
      "3179  89141045602     45144290       45144290          45144290  89141045602\n",
      "3180  92771060002          NaN            NaN               NaN          NaN\n",
      "\n",
      "[3181 rows x 5 columns]\n"
     ]
    }
   ],
   "source": [
    "# method print_dic\n",
    "test.print_dic()"
   ]
  },
  {
   "cell_type": "code",
   "execution_count": null,
   "metadata": {},
   "outputs": [],
   "source": []
  }
 ],
 "metadata": {
  "kernelspec": {
   "display_name": "Python 3",
   "language": "python",
   "name": "python3"
  },
  "language_info": {
   "codemirror_mode": {
    "name": "ipython",
    "version": 3
   },
   "file_extension": ".py",
   "mimetype": "text/x-python",
   "name": "python",
   "nbconvert_exporter": "python",
   "pygments_lexer": "ipython3",
   "version": "3.7.6"
  },
  "vscode": {
   "interpreter": {
    "hash": "aee8b7b246df8f9039afb4144a1f6fd8d2ca17a180786b69acc140d282b71a49"
   }
  }
 },
 "nbformat": 4,
 "nbformat_minor": 4
}
