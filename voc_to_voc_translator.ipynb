{
 "cells": [
  {
   "cell_type": "code",
   "execution_count": null,
   "metadata": {},
   "outputs": [],
   "source": [
    "import pandas as pd"
   ]
  },
  {
   "cell_type": "code",
   "execution_count": null,
   "metadata": {},
   "outputs": [],
   "source": [
    "# Concept dictionary load.\n",
    "concept=pd.read_csv(\"CONCEPT.csv\",sep=\"\\\\t\",error_bad_lines=False, converters={\"concept_id\":str,\"concept_code\":str}, engine='python')"
   ]
  },
  {
   "cell_type": "code",
   "execution_count": null,
   "metadata": {},
   "outputs": [],
   "source": [
    "# Concept relationship dictionary load.\n",
    "concept_rel=pd.read_csv(\"CONCEPT_RELATIONSHIP.csv\",sep=\"\\\\t\",error_bad_lines=False, \n",
    "                        converters={\"concept_id_1\":str,\"concept_id_2\":str}, engine='python')\n"
   ]
  },
  {
   "cell_type": "code",
   "execution_count": null,
   "metadata": {},
   "outputs": [],
   "source": [
    "# List all vacabularies in concepts. Check that your vocabularies are in the list. \n",
    "concept[\"vocabulary_id\"].unique()\n"
   ]
  },
  {
   "cell_type": "code",
   "execution_count": null,
   "metadata": {},
   "outputs": [],
   "source": [
    "# Select only the needed vocabularies. Change the vocabulary names acording to your needs.\n",
    "# Example with 'NDC' and 'RxNorm'\n",
    "concept=concept[(concept[\"vocabulary_id\"]=='NDC')|(concept[\"vocabulary_id\"]=='RxNorm')]\n",
    "\n",
    "\n",
    "\n",
    "# Select only the relationships on \"mapping to\". \n",
    "concept_rel=concept_dic[concept_dic['relationship_id']==\"Maps to\"]"
   ]
  },
  {
   "cell_type": "code",
   "execution_count": null,
   "metadata": {},
   "outputs": [],
   "source": [
    "#1 Translate your source vocabulary code(concept_name) TO concept_id(NDC).\n",
    "\n",
    "# Load your source file.\n",
    "source_voc=pd.read_csv('NDC source codes.csv',converters={\"ndc\":str})\n",
    "\n",
    "#replace left_on value for the source code columns name.\n",
    "concept_id_source=source_voc.merge(concept, how='left',left_on=\"ndc\", right_on=\"concept_code\")\n",
    "\n",
    "concept_id_source.head()"
   ]
  },
  {
   "cell_type": "code",
   "execution_count": null,
   "metadata": {},
   "outputs": [],
   "source": [
    "# 2 step. Merge tables joining on concept_id(from source voc) to concept_id()\n",
    "\n",
    "source_rel_merge=concept_id_source.merge(concept_rel, how='inner',left_on=\"concept_id\",right_on=\"concept_id_1\")\n",
    "source_rel_merge=source_rel_merge[['drug','ndc','concept_id_1','concept_id_2']]\n",
    "source_rel_merge"
   ]
  },
  {
   "cell_type": "code",
   "execution_count": null,
   "metadata": {},
   "outputs": [],
   "source": [
    "# step 3. Merge tables joining the concept_id_2(concept_id from target voc) with concept dictionary to \n",
    "# obtain the concept_code of the target voc.\n",
    "\n",
    "\n",
    "rel_target_merge=source_rel_merge.merge(concept, how='inner',left_on=\"concept_id_2\",right_on=\"concept_id\")\n",
    "\n",
    "\n",
    "# selecting the relevant columns.\n",
    "rel_target_merge=rel_target_merge[['drug','ndc','concept_id_1','concept_id_2','concept_code']]\n",
    "\n",
    "\n",
    "# renaming for clarity\n",
    "\n",
    "rel_target_merge.columns=['drug','ndc','concept_id_ndc','concept_id_rx_norm','rx_norm']\n"
   ]
  },
  {
   "cell_type": "code",
   "execution_count": null,
   "metadata": {},
   "outputs": [],
   "source": [
    "rel_target_merge.to_csv(\"NDC_to_RxNorm.csv\")"
   ]
  },
  {
   "cell_type": "code",
   "execution_count": null,
   "metadata": {},
   "outputs": [],
   "source": []
  }
 ],
 "metadata": {
  "kernelspec": {
   "display_name": "Python 3",
   "language": "python",
   "name": "python3"
  }
 },
 "nbformat": 4,
 "nbformat_minor": 4
}
