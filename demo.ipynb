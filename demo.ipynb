{
 "cells": [
  {
   "cell_type": "markdown",
   "metadata": {},
   "source": [
    "#### Demo Scripts for the crosswalk package\n"
   ]
  },
  {
   "cell_type": "code",
   "execution_count": 1,
   "metadata": {},
   "outputs": [],
   "source": [
    "import pandas as pd\n",
    "\n",
    "import cwmed as cw"
   ]
  },
  {
   "cell_type": "markdown",
   "metadata": {},
   "source": [
    "Step1: Download the source and target concepts from OHDSI Athena, https://athena.ohdsi.org/auth/login\n",
    "\n",
    "1a) Login (if don't have an account you could register with your email), and click the <span style=\"background-color: #85af36; color: white; padding: 4px; border: 2px solid black;\">DOWNLOAD</span> from the header, and select the source and target vocabualries. \n",
    "In this example, ICD10CM is the source and SNOMED is the target (different source and targets could be selected.)\n",
    "\n",
    "| ID | CODE    | NAME                                                                    |\n",
    "|----|---------|-------------------------------------------------------------------------|\n",
    "| 1  | SNOMED  | Systematic Nomenclature of Medicine - Clinical Terms (IHTSDO)            |\n",
    "| 70 | ICD10CM | International Classification of Diseases, Tenth Revision, Clinical Modification (NCHS) |\n"
   ]
  },
  {
   "cell_type": "markdown",
   "metadata": {},
   "source": [
    "1b)  Click on <span style=\"background-color: #ad007c; color: white; padding: 4px; border: 2px solid black;\">DOWNLOAD VOCABULARIES</span>. Add text to name bundle: ICD10CM-to-SNOMED and click <span style=\"background-color: #2badce; color: white; padding: 4px; border: 2px solid black;\">DOWNLOAD</span>.\n"
   ]
  },
  {
   "cell_type": "markdown",
   "metadata": {},
   "source": [
    "1c) An email will be sent to your registered email (see example below).\n",
    "\n",
    "**Link for downloading the Standardized Vocabularies**\n",
    "Vocabularies release version: **v5.0 31-MAY-23**\n",
    "\n",
    "**ICD10CM-to-SNOMED Vocabularies**:\\\n",
    "ICD10CM\t-\tInternational Classification of Diseases, Tenth Revision, Clinical Modification (NCHS)\\\n",
    "SNOMED\t-\tSystematic Nomenclature of Medicine - Clinical Terms (IHTSDO)\n",
    "\n",
    "Please download and load the Standardized Vocabularies as following:\n",
    "1) Click on this [link](https://athena.ohdsi.org/api/v1/vocabularies/zip/084c2629-f1e0-4e00-bd76-1b5ebea2d266) to download the zip file. Typical file sizes, depending on the number of vocabularies selected, are between 30 and 250 MB.\n"
   ]
  },
  {
   "cell_type": "code",
   "execution_count": null,
   "metadata": {},
   "outputs": [],
   "source": [
    "# i) Copy the url path from the link and add it below as input to the download data function, using right click inspect element. \n",
    "# Note the link is time limited and may result in a forbidden data API access observed in the reponse.content due to third party permissions, \n",
    "# however you will still be able to click the link or copy and paste the url in your browser as in ii) (cell below) and unzip the files.\n",
    "url = 'https://athena.ohdsi.org/api/v1/vocabularies/zip/084c2629-f1e0-4e00-bd76-1b5ebea2d266'\n",
    "path = 'sample-data/input'\n",
    "cw.download_data(url,path)"
   ]
  },
  {
   "cell_type": "code",
   "execution_count": 3,
   "metadata": {},
   "outputs": [
    {
     "name": "stdout",
     "output_type": "stream",
     "text": [
      "Both the CONCEPT.csv and CONCEPT_RELATIONSHIP.csv files are present.\n"
     ]
    }
   ],
   "source": [
    "# ii) Alternatively, click on the link or copy and paste the url and unzip the files. \n",
    "# Add the CONCEPT.csv and CONCEPT_RELATIONSHIP.csv to your input data path, \"sample-data/input\".\n",
    "# Verify that both files are present.\n",
    "import os\n",
    "\n",
    "if os.path.isfile(os.path.join('sample-data/input', 'CONCEPT.csv')) and os.path.isfile(os.path.join('sample-data/input', 'CONCEPT_RELATIONSHIP.csv')):\n",
    "    print(\"Both the CONCEPT.csv and CONCEPT_RELATIONSHIP.csv files are present.\")"
   ]
  },
  {
   "cell_type": "code",
   "execution_count": 4,
   "metadata": {},
   "outputs": [
    {
     "name": "stdout",
     "output_type": "stream",
     "text": [
      "The source value 'ICD10CM' and target value 'SNOMED' are present.\n"
     ]
    },
    {
     "name": "stderr",
     "output_type": "stream",
     "text": [
      "/Users/dana/projects/medical-standard-voc-translator/crosswalk.py:52: DtypeWarning: Columns (6,9) have mixed types. Specify dtype option on import or set low_memory=False.\n",
      "  concepts = pd.read_csv(file_path, sep='\\t')\n"
     ]
    }
   ],
   "source": [
    "import numpy as np\n",
    "# 2. Get the unique vocabs from the concept.csv which are useful in step 3. to denote the source and target values.\n",
    "unique_vocabs = cw.get_unique_vocab('sample-data/input/CONCEPT.csv')\n",
    "# Check if the unique vocab list contains the source and target values.\n",
    "np.any(np.isin(unique_vocabs, ['ICD10CM', 'SNOMED']))\n",
    "source_value = 'ICD10CM'\n",
    "target_value = 'SNOMED'\n",
    "\n",
    "if np.any(np.isin(unique_vocabs, [source_value, target_value])):\n",
    "    print(f\"The source value '{source_value}' and target value '{target_value}' are present.\")\n",
    "else:\n",
    "    print(f\"The source value '{source_value}' and target value '{target_value}' are not present.\")"
   ]
  },
  {
   "cell_type": "code",
   "execution_count": 5,
   "metadata": {},
   "outputs": [
    {
     "name": "stderr",
     "output_type": "stream",
     "text": [
      "/Users/dana/projects/medical-standard-voc-translator/crosswalk.py:152: DtypeWarning: Columns (9) have mixed types. Specify dtype option on import or set low_memory=False.\n",
      "  df = pd.read_csv(self.concept_filepath, sep='\\t',\n"
     ]
    },
    {
     "data": {
      "text/plain": [
       "<crosswalk.VocabTranslator at 0x130673a00>"
      ]
     },
     "execution_count": 5,
     "metadata": {},
     "output_type": "execute_result"
    }
   ],
   "source": [
    "# 3. Read the source to vocab crosswalk as a Vocab Translator object. \n",
    "# Add the path to the source data, icd10.csv, including source column, 'icd10'.\n",
    "# Add the path to the concept.csv, along with the source and target column as observed from step 2. \n",
    "# Add the path to the concept_relationship.csv\n",
    "vocab = cw.VocabTranslator(source_filepath = 'sample-data/input/icd10.csv',\n",
    "                           source_code_col = 'icd10',\n",
    "                           concept_filepath = 'sample-data/input/CONCEPT.csv',\n",
    "                           source_vocab_value = 'ICD10CM',target_vocab_value = 'SNOMED',\n",
    "                           concept_relationship_filepath = 'sample-data/input/CONCEPT_RELATIONSHIP.csv')\n",
    "vocab"
   ]
  },
  {
   "cell_type": "code",
   "execution_count": 6,
   "metadata": {},
   "outputs": [
    {
     "data": {
      "text/html": [
       "<div>\n",
       "<style scoped>\n",
       "    .dataframe tbody tr th:only-of-type {\n",
       "        vertical-align: middle;\n",
       "    }\n",
       "\n",
       "    .dataframe tbody tr th {\n",
       "        vertical-align: top;\n",
       "    }\n",
       "\n",
       "    .dataframe thead th {\n",
       "        text-align: right;\n",
       "    }\n",
       "</style>\n",
       "<table border=\"1\" class=\"dataframe\">\n",
       "  <thead>\n",
       "    <tr style=\"text-align: right;\">\n",
       "      <th></th>\n",
       "      <th>ICD10CM</th>\n",
       "      <th>ICD10CM_label</th>\n",
       "      <th>ICD10CM_omop_id</th>\n",
       "      <th>SNOMED</th>\n",
       "      <th>SNOMED_label</th>\n",
       "      <th>SNOMED_omop_id</th>\n",
       "    </tr>\n",
       "  </thead>\n",
       "  <tbody>\n",
       "    <tr>\n",
       "      <th>0</th>\n",
       "      <td>A04.4</td>\n",
       "      <td>Other intestinal Escherichia coli infections</td>\n",
       "      <td>35205417</td>\n",
       "      <td>111839008</td>\n",
       "      <td>Intestinal infection due to E. coli</td>\n",
       "      <td>192815</td>\n",
       "    </tr>\n",
       "    <tr>\n",
       "      <th>1</th>\n",
       "      <td>A04.7</td>\n",
       "      <td>Enterocolitis due to Clostridium difficile</td>\n",
       "      <td>35205420</td>\n",
       "      <td>186431008</td>\n",
       "      <td>Clostridioides difficile infection</td>\n",
       "      <td>193688</td>\n",
       "    </tr>\n",
       "    <tr>\n",
       "      <th>2</th>\n",
       "      <td>A04.72</td>\n",
       "      <td>Enterocolitis due to Clostridium difficile, no...</td>\n",
       "      <td>1326483</td>\n",
       "      <td>423590009</td>\n",
       "      <td>Clostridium difficile colitis</td>\n",
       "      <td>4307981</td>\n",
       "    </tr>\n",
       "  </tbody>\n",
       "</table>\n",
       "</div>"
      ],
      "text/plain": [
       "  ICD10CM                                      ICD10CM_label ICD10CM_omop_id  \\\n",
       "0   A04.4       Other intestinal Escherichia coli infections        35205417   \n",
       "1   A04.7         Enterocolitis due to Clostridium difficile        35205420   \n",
       "2  A04.72  Enterocolitis due to Clostridium difficile, no...         1326483   \n",
       "\n",
       "      SNOMED                         SNOMED_label SNOMED_omop_id  \n",
       "0  111839008  Intestinal infection due to E. coli         192815  \n",
       "1  186431008   Clostridioides difficile infection         193688  \n",
       "2  423590009        Clostridium difficile colitis        4307981  "
      ]
     },
     "execution_count": 6,
     "metadata": {},
     "output_type": "execute_result"
    }
   ],
   "source": [
    "#4. Display the source to target table.\n",
    "df = vocab.show_source_to_target_table()\n",
    "df.head(3)"
   ]
  },
  {
   "cell_type": "code",
   "execution_count": 7,
   "metadata": {},
   "outputs": [],
   "source": [
    "#5. Save the source-to-target mapping table to a CSV file.\n",
    "vocab.save_source_to_target('sample-data/output/icd10_to_snomed.csv')"
   ]
  },
  {
   "cell_type": "code",
   "execution_count": 8,
   "metadata": {},
   "outputs": [
    {
     "data": {
      "text/html": [
       "<div>\n",
       "<style scoped>\n",
       "    .dataframe tbody tr th:only-of-type {\n",
       "        vertical-align: middle;\n",
       "    }\n",
       "\n",
       "    .dataframe tbody tr th {\n",
       "        vertical-align: top;\n",
       "    }\n",
       "\n",
       "    .dataframe thead th {\n",
       "        text-align: right;\n",
       "    }\n",
       "</style>\n",
       "<table border=\"1\" class=\"dataframe\">\n",
       "  <thead>\n",
       "    <tr style=\"text-align: right;\">\n",
       "      <th></th>\n",
       "      <th>ICD10CM</th>\n",
       "      <th>ICD10CM_label</th>\n",
       "      <th>ICD10CM_omop_id</th>\n",
       "      <th>SNOMED</th>\n",
       "      <th>SNOMED_label</th>\n",
       "      <th>SNOMED_omop_id</th>\n",
       "    </tr>\n",
       "  </thead>\n",
       "  <tbody>\n",
       "    <tr>\n",
       "      <th>0</th>\n",
       "      <td>C78.7</td>\n",
       "      <td>Secondary malignant neoplasm of liver and intr...</td>\n",
       "      <td>NaN</td>\n",
       "      <td>NaN</td>\n",
       "      <td>NaN</td>\n",
       "      <td>NaN</td>\n",
       "    </tr>\n",
       "    <tr>\n",
       "      <th>1</th>\n",
       "      <td>Z77.22</td>\n",
       "      <td>Contact with and (suspected) exposure to envir...</td>\n",
       "      <td>NaN</td>\n",
       "      <td>NaN</td>\n",
       "      <td>NaN</td>\n",
       "      <td>NaN</td>\n",
       "    </tr>\n",
       "    <tr>\n",
       "      <th>2</th>\n",
       "      <td>Z85.038</td>\n",
       "      <td>Personal history of other malignant neoplasm o...</td>\n",
       "      <td>NaN</td>\n",
       "      <td>NaN</td>\n",
       "      <td>NaN</td>\n",
       "      <td>NaN</td>\n",
       "    </tr>\n",
       "  </tbody>\n",
       "</table>\n",
       "</div>"
      ],
      "text/plain": [
       "   ICD10CM                                      ICD10CM_label  \\\n",
       "0    C78.7  Secondary malignant neoplasm of liver and intr...   \n",
       "1   Z77.22  Contact with and (suspected) exposure to envir...   \n",
       "2  Z85.038  Personal history of other malignant neoplasm o...   \n",
       "\n",
       "   ICD10CM_omop_id  SNOMED  SNOMED_label  SNOMED_omop_id  \n",
       "0              NaN     NaN           NaN             NaN  \n",
       "1              NaN     NaN           NaN             NaN  \n",
       "2              NaN     NaN           NaN             NaN  "
      ]
     },
     "execution_count": 8,
     "metadata": {},
     "output_type": "execute_result"
    }
   ],
   "source": [
    "#6. Save the failed source to target mappings to a CSV file.\n",
    "vocab.save_source_to_target_failed_mappings('sample-data/output/icd10_to_snomed_failed_mappings.csv')\n",
    "failed_mappings= pd.read_csv('sample-data/output/icd10_to_snomed_failed_mappings.csv')\n",
    "failed_mappings.head(3)"
   ]
  }
 ],
 "metadata": {
  "kernelspec": {
   "display_name": "Python 3.9.6 ('env': venv)",
   "language": "python",
   "name": "python3"
  },
  "language_info": {
   "codemirror_mode": {
    "name": "ipython",
    "version": 3
   },
   "file_extension": ".py",
   "mimetype": "text/x-python",
   "name": "python",
   "nbconvert_exporter": "python",
   "pygments_lexer": "ipython3",
   "version": "3.9.6"
  },
  "vscode": {
   "interpreter": {
    "hash": "e372a2dd97ce19e4aba6b7ce1cf562a905ea4c8a82fe6108946fbfb7fabedc11"
   }
  }
 },
 "nbformat": 4,
 "nbformat_minor": 4
}
